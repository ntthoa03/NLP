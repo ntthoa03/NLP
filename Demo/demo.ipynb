{
  "cells": [
    {
      "cell_type": "code",
      "execution_count": 1,
      "metadata": {
        "colab": {
          "base_uri": "https://localhost:8080/"
        },
        "id": "GDQEENnkiQ1i",
        "outputId": "5b7d29e9-3462-406d-ece2-2fb7fb6f4e2c"
      },
      "outputs": [
        {
          "name": "stdout",
          "output_type": "stream",
          "text": [
            "Collecting openai\n",
            "  Downloading openai-1.6.1-py3-none-any.whl (225 kB)\n",
            "\u001b[2K     \u001b[90m━━━━━━━━━━━━━━━━━━━━━━━━━━━━━━━━━━━━━━━━\u001b[0m \u001b[32m225.4/225.4 kB\u001b[0m \u001b[31m1.5 MB/s\u001b[0m eta \u001b[36m0:00:00\u001b[0m\n",
            "\u001b[?25hRequirement already satisfied: anyio<5,>=3.5.0 in /usr/local/lib/python3.10/dist-packages (from openai) (3.7.1)\n",
            "Requirement already satisfied: distro<2,>=1.7.0 in /usr/lib/python3/dist-packages (from openai) (1.7.0)\n",
            "Collecting httpx<1,>=0.23.0 (from openai)\n",
            "  Downloading httpx-0.26.0-py3-none-any.whl (75 kB)\n",
            "\u001b[2K     \u001b[90m━━━━━━━━━━━━━━━━━━━━━━━━━━━━━━━━━━━━━━━━\u001b[0m \u001b[32m75.9/75.9 kB\u001b[0m \u001b[31m7.3 MB/s\u001b[0m eta \u001b[36m0:00:00\u001b[0m\n",
            "\u001b[?25hRequirement already satisfied: pydantic<3,>=1.9.0 in /usr/local/lib/python3.10/dist-packages (from openai) (1.10.13)\n",
            "Requirement already satisfied: sniffio in /usr/local/lib/python3.10/dist-packages (from openai) (1.3.0)\n",
            "Requirement already satisfied: tqdm>4 in /usr/local/lib/python3.10/dist-packages (from openai) (4.66.1)\n",
            "Collecting typing-extensions<5,>=4.7 (from openai)\n",
            "  Downloading typing_extensions-4.9.0-py3-none-any.whl (32 kB)\n",
            "Requirement already satisfied: idna>=2.8 in /usr/local/lib/python3.10/dist-packages (from anyio<5,>=3.5.0->openai) (3.6)\n",
            "Requirement already satisfied: exceptiongroup in /usr/local/lib/python3.10/dist-packages (from anyio<5,>=3.5.0->openai) (1.2.0)\n",
            "Requirement already satisfied: certifi in /usr/local/lib/python3.10/dist-packages (from httpx<1,>=0.23.0->openai) (2023.11.17)\n",
            "Collecting httpcore==1.* (from httpx<1,>=0.23.0->openai)\n",
            "  Downloading httpcore-1.0.2-py3-none-any.whl (76 kB)\n",
            "\u001b[2K     \u001b[90m━━━━━━━━━━━━━━━━━━━━━━━━━━━━━━━━━━━━━━━━\u001b[0m \u001b[32m76.9/76.9 kB\u001b[0m \u001b[31m8.1 MB/s\u001b[0m eta \u001b[36m0:00:00\u001b[0m\n",
            "\u001b[?25hCollecting h11<0.15,>=0.13 (from httpcore==1.*->httpx<1,>=0.23.0->openai)\n",
            "  Downloading h11-0.14.0-py3-none-any.whl (58 kB)\n",
            "\u001b[2K     \u001b[90m━━━━━━━━━━━━━━━━━━━━━━━━━━━━━━━━━━━━━━━━\u001b[0m \u001b[32m58.3/58.3 kB\u001b[0m \u001b[31m5.0 MB/s\u001b[0m eta \u001b[36m0:00:00\u001b[0m\n",
            "\u001b[?25hInstalling collected packages: typing-extensions, h11, httpcore, httpx, openai\n",
            "  Attempting uninstall: typing-extensions\n",
            "    Found existing installation: typing_extensions 4.5.0\n",
            "    Uninstalling typing_extensions-4.5.0:\n",
            "      Successfully uninstalled typing_extensions-4.5.0\n",
            "\u001b[31mERROR: pip's dependency resolver does not currently take into account all the packages that are installed. This behaviour is the source of the following dependency conflicts.\n",
            "llmx 0.0.15a0 requires cohere, which is not installed.\n",
            "llmx 0.0.15a0 requires tiktoken, which is not installed.\n",
            "tensorflow-probability 0.22.0 requires typing-extensions<4.6.0, but you have typing-extensions 4.9.0 which is incompatible.\u001b[0m\u001b[31m\n",
            "\u001b[0mSuccessfully installed h11-0.14.0 httpcore-1.0.2 httpx-0.26.0 openai-1.6.1 typing-extensions-4.9.0\n"
          ]
        }
      ],
      "source": [
        "!pip install --upgrade openai\n"
      ]
    },
    {
      "cell_type": "code",
      "execution_count": 2,
      "metadata": {
        "id": "If4Fd494kLN6"
      },
      "outputs": [],
      "source": [
        "import os\n",
        "import openai\n"
      ]
    },
    {
      "cell_type": "code",
      "execution_count": 3,
      "metadata": {
        "id": "Dmt_5GlwxZ0O"
      },
      "outputs": [],
      "source": [
        "#INPUT API\n",
        "os.environ['OPENAI_API_KEY'] =  \"\"\n",
        "\n",
        "# new\n",
        "from openai import OpenAI\n",
        "\n",
        "client = OpenAI(\n",
        "  api_key=os.environ['OPENAI_API_KEY'],  # this is also the default, it can be omitted\n",
        ")"
      ]
    },
    {
      "cell_type": "markdown",
      "metadata": {
        "id": "5enEbiXxxFwL"
      },
      "source": [
        "#Multi-label classification\n",
        "\n",
        "Prompt for multi-label classification with  GPT-3.5.\n"
      ]
    },
    {
      "cell_type": "code",
      "execution_count": 4,
      "metadata": {
        "colab": {
          "base_uri": "https://localhost:8080/"
        },
        "id": "BiD9BaIAP5a5",
        "outputId": "9523edc8-d172-41d4-aa5d-e7c25f448dc3"
      },
      "outputs": [
        {
          "name": "stdout",
          "output_type": "stream",
          "text": [
            "{\n",
            "  \"curriculum\": \"The comment mentions adding molecular biology and molecular techniques basic concepts to the courses, which suggests a suggestion for additional course content.\",\n",
            "  \"course logistics and fit\": \"The comment also mentions that the addition of these concepts would add extra value and fit into the story, indicating a consideration of course fit and appropriateness.\"\n",
            "}\n",
            "{\n",
            "  \"categories\": [\n",
            "    \"course logistics and fit\",\n",
            "    \"curriculum\"\n",
            "  ],\n",
            "  \"reasoning\": {\n",
            "    \"course logistics and fit\": \"The comment mentions the desire to repeat modules due to being from a different background. This indicates a concern about the appropriateness of the course level and user fit.\",\n",
            "    \"curriculum\": \"The comment praises the structure of the course, indicating satisfaction with the course content and pedagogical structure.\"\n",
            "  }\n",
            "}\n"
          ]
        }
      ],
      "source": [
        "#Define tags\n",
        "tags = \"\"\"\n",
        "Category: “course logistics and fit”\n",
        "Description: course delivery (policy, support), cost, difficulty, time commitment, grading, credit, schedule, user fit, access, background (e.g., prereqs and appropriateness of course level).\n",
        "Category: “curriculum”\n",
        "Description: course content, curriculum, specific topics, course structure. This focuses on the content and the pedagogical structure of the content, including flow and organization. This also includes applied material such as clinical cases and case studies. Includes references to pre-recorded discussions between experts or between a doctor and a patient. Includes specific suggestions for additional courses or content.\n",
        "\n",
        "\"\"\"\n",
        "\n",
        "# Define the prompt\n",
        "prompt = f\"\"\"\n",
        "You are a highly-skilled assistant that classifies student course feedback comments. You respond only with a JSON object.\n",
        "You will be provided with a comment from a student course feedback survey. Categorize the comment with as many of the following categories as apply:\n",
        "\n",
        "{tags}\n",
        "\n",
        "Think step-by-step to arrive at a correct classification. Include your reasoning behind every assigned category in the output.\n",
        "\n",
        "\"\"\"\n",
        "\n",
        "# List of student course feedback comments\n",
        "comments = [\n",
        "    \"It is great victory to engage with biochemistry and get out understand it by handling its concept but not drawn by the details. I believe adding the molecular biology and molecular techniques basic concepts to the courses will had extra value and can be fit into the story.\",\n",
        "    \"The structure of this course is just great. However, I would love to have the chance to repeat all the modules as I am from a very different background.\",\n",
        "    # Add more comments as needed\n",
        "    ]\n",
        "\n",
        "\n",
        "\n",
        "# Classify comments using GPT-3.5-turbo\n",
        "results = []\n",
        "for i, comment in enumerate(comments, start=1):\n",
        "\n",
        "    model = \"gpt-3.5-turbo\"  # Sử dụng mô hình GPT-4\n",
        "    max_tokens = 1000  # Điều chỉnh theo nhu cầu\n",
        "    response_format={ \"type\": \"json_object\" },\n",
        "    response = client.chat.completions.create(\n",
        "      model=model,\n",
        "      messages=[\n",
        "        {\"role\": \"system\", \"content\": prompt},\n",
        "        {\"role\": \"user\", \"content\":comment}\n",
        "      ],\n",
        "    max_tokens=max_tokens,\n",
        "    temperature = 0,\n",
        ")\n",
        "    print(response.choices[0].message.content)\n",
        "\n",
        "\n",
        "\n"
      ]
    },
    {
      "cell_type": "markdown",
      "metadata": {
        "id": "5VWALhXu2PyB"
      },
      "source": [
        "#Multi-class classification\n",
        "\n"
      ]
    },
    {
      "cell_type": "code",
      "execution_count": 7,
      "metadata": {
        "colab": {
          "base_uri": "https://localhost:8080/"
        },
        "id": "df4aIkcZSS8j",
        "outputId": "a7bf4c6d-774c-44ba-ff8a-13c9f4b864b5"
      },
      "outputs": [
        {
          "name": "stdout",
          "output_type": "stream",
          "text": [
            "[\n",
            "  {\n",
            "    \"curriculum\": \"The student is suggesting adding molecular biology and molecular techniques basic concepts to the course, which falls under curriculum as it pertains to course content and specific topics.\"\n",
            "  }\n",
            "]\n"
          ]
        }
      ],
      "source": [
        "tags = \"\"\"\n",
        "Category: “course logistics and fit”\n",
        "Description: course delivery (policy, support), cost, difficulty, time commitment, grading, credit, schedule, user fit, access, background (e.g., prereqs and appropriateness of course level).\n",
        "Category: “curriculum”\n",
        "Description: course content, curriculum, specific topics, course structure. This focuses on the content and the pedagogical structure of the content, including flow and organization. This also includes applied material such as clinical cases and case studies. Includes references to pre-recorded discussions between experts or between a doctor and a patient. Includes specific suggestions for additional courses or content.\n",
        "\n",
        "\"\"\"\n",
        "\n",
        "goal_focus= \"suggestions for improvement\"\n",
        "\n",
        "\n",
        "# Prepare the prompt\n",
        "\n",
        "prompt = f\"\"\"\n",
        "You are a highly-skilled assistant that categorizes {goal_focus} from student course feedback comments. You respond only with a JSON array.\n",
        "You will be provided with an array of excerpts from a student course feedback survey. Categorize each excerpt with exactly one of the following categories:\n",
        "{tags}.\n",
        "\n",
        "Think step-by-step to arrive at a correct classification. Include your reasoning in the output.\n",
        "\n",
        "\"\"\"\n",
        "\n",
        "comment = \"It is great victory to engage with biochemistry and get out understand it by handling its concept but not drawn by the details. I believe adding the molecular biology and molecular techniques basic concepts to the courses will had extra value and can be fit into the story.\"\n",
        "\n",
        "model = \"gpt-3.5-turbo-1106\"  # Sử dụng mô hình GPT-4\n",
        "max_tokens = 2100  # Điều chỉnh theo nhu cầu\n",
        "response = client.chat.completions.create(\n",
        "      model=model,\n",
        "      messages=[\n",
        "    {\"role\": \"system\", \"content\": prompt},\n",
        "    {\"role\": \"user\", \"content\":comment}\n",
        "      ],\n",
        "    temperature = 0,\n",
        "    max_tokens=max_tokens\n",
        ")\n",
        "print(response.choices[0].message.content)"
      ]
    },
    {
      "cell_type": "markdown",
      "metadata": {
        "id": "zfHol6lYOIIM"
      },
      "source": []
    },
    {
      "cell_type": "markdown",
      "metadata": {
        "id": "eUmAMdCf95Cx"
      },
      "source": [
        "# Binary classification"
      ]
    },
    {
      "cell_type": "code",
      "execution_count": 14,
      "metadata": {
        "colab": {
          "base_uri": "https://localhost:8080/"
        },
        "id": "geucvzC4Zren",
        "outputId": "415f8a8a-11da-4b6e-cd25-5055c1dc5ee6"
      },
      "outputs": [
        {
          "name": "stdout",
          "output_type": "stream",
          "text": [
            "{\n",
            "  \"classification\": \"yes\",\n",
            "  \"reasoning\": \"The comment contains suggestions for new topics or content. The student suggests using a tool like Cerego to accompany the course, adding additional questions that require calculations, and more questions overall to reinforce concepts. The student also suggests reducing the cost of the course.\"\n",
            "}\n",
            "None\n"
          ]
        }
      ],
      "source": [
        "\n",
        "# Define the prompt variables\n",
        "delimiter = \"####\"  # Ký tự phân cách dùng để phân định rõ ràng nhận xét\n",
        "question = \"‘Please describe the best parts of this course\" #Câu hỏi khảo sát\n",
        "goal_focus = \"suggestions for new topics or content\"  #“feedback about the teaching or explanations”\n",
        "\n",
        "\n",
        "\n",
        "# Define the prompt\n",
        "prompt = f\"\"\"\n",
        "You are a highly-skilled assistant that classifies student course feedback comments\n",
        "based on whether or not they contain {goal_focus}. You answer only with a JSON\n",
        "object and nothing else.\n",
        "You will be provided with a comment from a student course feedback survey. The\n",
        "comment will be delimited by {delimiter} characters. Each original comment was\n",
        "in response to the question: \"{question}\". Classify the comment as either containing {goal_focus} or not containing {goal_focus}. Think step-by-step to arrive at a\n",
        "correct classification. Include your reasoning in the output.\n",
        "Only use yes or no for the classification. If something is N/A, use no.\n",
        "\"\"\"\n",
        "\n",
        "comments = [\n",
        "    \"Use of a tool like Cerego to accompany the course. Additional questions that require calculations, and more questions overall to reinforce concepts. Reduce cost.\",\n",
        "     \"It is great victory to engage with biochemistry and get out understand it by handling its concept but not drawn by the details. I believe adding the molecular biology and molecular techniques basic concepts to the courses will had extra value and can be fit into the story.\"\n",
        "    # Add more comments as needed\n",
        "]\n",
        "\n",
        "\n",
        "#For each prompt, there was also an associated function schema that was used as part of function calling to guide the format of the output\n",
        "function_schema = [\n",
        "{\n",
        "  \"name\": \"store_binary_classification_with_reasoning\",\n",
        "  \"description\": \"Store the binary classification and reasoning of an online course survey comment in a database.\",\n",
        "  \"parameters\": {\n",
        "    \"type\": \"object\",\n",
        "    \"properties\": {\n",
        "      \"classification\": {\n",
        "        \"type\": \"string\",\n",
        "        \"enum\": [\"yes\", \"no\"],\n",
        "        \"description\": f\"Whether or not the comment contains the {goal_focus}.\"\n",
        "      },\n",
        "      \"reasoning\": {\n",
        "        \"type\": \"string\",\n",
        "        \"description\": \"The reasoning for the classification.\"\n",
        "      }\n",
        "    },\n",
        "    \"required\": [\"classification\", \"reasoning\"]\n",
        "  }\n",
        "}\n",
        "]\n",
        "\n",
        "for i, comment in enumerate(comments, start=1):\n",
        "\n",
        "    model = \"gpt-3.5-turbo\"  # Sử dụng mô hình GPT-4\n",
        "    max_tokens = 2048  # Điều chỉnh theo nhu cầu\n",
        "    response = client.chat.completions.create(\n",
        "      model=model,\n",
        "      messages=[\n",
        "    {\"role\": \"system\", \"content\": prompt},\n",
        "    {\"role\": \"user\", \"content\": f\"{delimiter}{comment}{delimiter}\"}\n",
        "      ],\n",
        "    max_tokens=max_tokens,\n",
        "    temperature = 0,\n",
        "\n",
        "    functions=function_schema,\n",
        "    function_call=\"auto\",\n",
        "\n",
        ")\n",
        "    print(response.choices[0].message.content)\n",
        "\n",
        "\n",
        "\n",
        "\n"
      ]
    },
    {
      "cell_type": "markdown",
      "metadata": {
        "id": "T_Pg4i-b95WW"
      },
      "source": [
        "#Extraction"
      ]
    },
    {
      "cell_type": "code",
      "execution_count": 13,
      "metadata": {
        "colab": {
          "base_uri": "https://localhost:8080/"
        },
        "id": "NyCNBX_wDfii",
        "outputId": "189fba7b-2558-48c7-d779-5003d57d0ccb"
      },
      "outputs": [
        {
          "name": "stdout",
          "output_type": "stream",
          "text": [
            "[{\"excerpt\": \"I believe adding the molecular biology and molecular techniques basic concepts to the courses will had extra value and can be fit into the story.\"}]\n",
            "[ \"Use of a tool like Cerego to accompany the course.\", \"Additional questions that require calculations, and more questions overall to reinforce concepts.\", \"Reduce cost.\" ]\n"
          ]
        }
      ],
      "source": [
        "\n",
        "\n",
        "# Define the prompt variables\n",
        "delimiter = \"####\"  # Change this to your specific delimiter\n",
        "question = \"Please describe the best parts of this course?\"\n",
        "goal_focus = \"feedback about the teaching or explanations\" #“suggestions for new topics or content\n",
        "\n",
        "# Define the prompt\n",
        "prompt = f\"\"\"\n",
        "You are a highly-skilled assistant that extracts {goal_focus} from student course\n",
        "feedback comments. You respond only with a JSON array.\\n\n",
        "You will be provided with a comment from a student course feedback survey. The\n",
        "comment will be delimited by {delimiter} characters. Each original comment was\n",
        "in response to the question: \"{question}\". However, your task is to only select\n",
        "excerpts which pertain to the goal focus: \"{goal_focus}\". Excerpts should only\n",
        "be exact quotes taken from the comment; do not add or alter words under any\n",
        "circumstances.\\n\n",
        "If you cannot extract excerpts for any reason, for example if the comment is not\n",
        "relevant to the question, respond only with an empty JSON array: []\\n\n",
        "If there are relevant excerpts, ensure that excerpts contain all relevant text needed\n",
        "to interpret them - in other words don’t extract small snippets that are missing\n",
        "important context.\\n\n",
        "Before finalizing excerpts, review your excerpts to see if any consecutive excerpts\n",
        "are actually about the same suggestion or part of the same thought. If so, combine\n",
        "them into a single excerpt.\n",
        "\n",
        "\"\"\"\n",
        "\n",
        "# Replace this with an actual comment from the user survey\n",
        "comments = [\n",
        "    \"It is great victory to engage with biochemistry and get out understand it by handling its concept but not drawn by the details. I believe adding the molecular biology and molecular techniques basic concepts to the courses will had extra value and can be fit into the story.\",\n",
        "    \"Use of a tool like Cerego to accompany the course. Additional questions that require calculations, and more questions overall to reinforce concepts. Reduce cost.\"\n",
        "    # Add more comments as needed\n",
        "]\n",
        "\n",
        "\n",
        "# Classify comments using GPT-3.5-turbo\n",
        "results = []\n",
        "for i, comment in enumerate(comments, start=1):\n",
        "\n",
        "    model = \"gpt-3.5-turbo\"  # Sử dụng mô hình GPT-4\n",
        "    max_tokens = 2048  # Điều chỉnh theo nhu cầu\n",
        "    response = client.chat.completions.create(\n",
        "      model=model,\n",
        "      messages=[\n",
        "    {\"role\": \"system\", \"content\": prompt},\n",
        "    {\"role\": \"user\", \"content\": f\"{delimiter}{comment}{delimiter}\"}\n",
        "      ],\n",
        "    max_tokens=max_tokens,\n",
        "    temperature = 0\n",
        "\n",
        ")\n",
        "    print(response.choices[0].message.content)\n",
        "\n"
      ]
    },
    {
      "cell_type": "markdown",
      "metadata": {
        "id": "oJK2G6Xt95ee"
      },
      "source": [
        "# Extraction evaluation"
      ]
    },
    {
      "cell_type": "code",
      "execution_count": 12,
      "metadata": {
        "colab": {
          "base_uri": "https://localhost:8080/"
        },
        "id": "wc0dUuMcDgHr",
        "outputId": "75ca8fd8-f10e-498c-ee28-4fe14acf9e8d"
      },
      "outputs": [
        {
          "name": "stdout",
          "output_type": "stream",
          "text": [
            "{\n",
            "  \"missed_relevant_excerpts\": \"no\",\n",
            "  \"ambiguous_excerpts\": \"no\",\n",
            "  \"missing_context\": \"na\",\n",
            "  \"irrelevant_excerpts\": \"no\",\n",
            "  \"irrelevant_text\": \"no\",\n",
            "  \"implied_feedback\": \"no\",\n",
            "  \"not_exact_quotes\": \"no\",\n",
            "  \"non_contiguous_excerpts\": \"no\",\n",
            "  \"repeated_excerpts\": \"yes\"\n",
            "}\n",
            "{\n",
            "  \"missed_relevant_excerpts\": \"no\",\n",
            "  \"ambiguous_excerpts\": \"no\",\n",
            "  \"missing_context\": \"na\",\n",
            "  \"irrelevant_excerpts\": \"no\",\n",
            "  \"irrelevant_text\": \"no\",\n",
            "  \"implied_feedback\": \"no\",\n",
            "  \"not_exact_quotes\": \"no\",\n",
            "  \"non_contiguous_excerpts\": \"no\",\n",
            "  \"repeated_excerpts\": \"yes\"\n",
            "}\n"
          ]
        }
      ],
      "source": [
        "# Define the prompt variables\n",
        "delimiter = \"####\"  # Change this to your specific delimiter\n",
        "question = \"Please describe the best parts of this course?\"\n",
        "goal_focus = \"feedback about the teaching or explanations\" #“suggestions for new topics or content\n",
        "# Define the prompt\n",
        "prompt = f\"\"\"\n",
        "You are a highly-skilled assistant that evaluates how well a computer program has\n",
        "extracted {goal_focus} from student course feedback comments. You respond only\n",
        "with a JSON object.\n",
        "You will be provided with the original comment from a student course feedback\n",
        "survey and a list of the extracted excerpts. Each original comment was in response\n",
        "to the question: \"{question}\". The computer program’s task was to select exact\n",
        "quote excerpts which pertain to the goal focus: \"{goal_focus}\".\n",
        "Your task is to evaluate how well the computer program did by answering the\n",
        "following questions:\n",
        "- Did the program miss any relevant excerpts? Ignore spelling, punctuation, and\n",
        "capitalization changes. (yes or no)\n",
        "- Did the program extract any excerpts that are ambiguous because of lack of\n",
        "context? (yes or no)\n",
        "- If context is missing, did the needed context exist in the original comment but\n",
        "not get captured in the excerpts? If all needed context was present in the excerpts,\n",
        "answer ‘na’. (yes, no, or na)\n",
        "- Did the program extract any irrelevant excerpts? (yes or no)\n",
        "- Did the program extract any irrelevant text that is not needed to interpret the\n",
        "excerpts? (yes or no)\n",
        "- Did the program extract any excerpts where {goal_focus} is only implied but not\n",
        "explicit? (yes or no)\n",
        "- Did the program produce any excerpts that are not exact quotes from the original\n",
        "comment? (yes or no)\n",
        "- Did the program extract any excerpts that are not contiguous (i.e., consecutive)\n",
        "in the original comment? (yes or no)\n",
        "- Are there two or more excerpts that are actually about the same idea and which\n",
        "could have been combined or had one dropped? (yes or no)\n",
        "Think step-by-step to arrive at correct answers. Include your reasoning behind\n",
        "every question in the output.\n",
        "\n",
        "\"\"\"\n",
        "\n",
        "# Replace this with an actual comment and list of excerpts from the user survey\n",
        "comments = [\n",
        "    \"It is great victory to engage with biochemistry and get out understand it by handling its concept but not drawn by the details. I believe adding the molecular biology and molecular techniques basic concepts to the courses will had extra value and can be fit into the story.\",\n",
        "    \"Use of a tool like Cerego to accompany the course. Additional questions that require calculations, and more questions overall to reinforce concepts. Reduce cost.\"\n",
        "    # Add more comments as needed\n",
        "]\n",
        "\n",
        "excerpt_list = \"\"\"\n",
        "Reduce cost.\", \"Additional questions that require calculations, and more questions overall to reinforce concepts.\",\n",
        "\"Additional questions that require calculations, and more questions overall to reinforce concepts.\"\n",
        "\"\"\"\n",
        "\n",
        "# Classify comments using GPT-3.5-turbo\n",
        "results = []\n",
        "for i, comment in enumerate(comments, start=1):\n",
        "\n",
        "    model = \"gpt-3.5-turbo\"  # Sử dụng mô hình GPT-4\n",
        "    max_tokens = 2048  # Điều chỉnh theo nhu cầu\n",
        "    response = client.chat.completions.create(\n",
        "      model=model,\n",
        "      messages=[\n",
        "    {\"role\": \"system\", \"content\": prompt},\n",
        "    {\"role\": \"user\", \"content\": f\"{delimiter}{comment}{delimiter}\"},\n",
        "    {\"role\": \"user\", \"content\": excerpt_list}\n",
        "      ],\n",
        "    max_tokens=max_tokens,\n",
        "    temperature = 0\n",
        ")\n",
        "    print(response.choices[0].message.content)\n",
        "\n"
      ]
    },
    {
      "cell_type": "markdown",
      "metadata": {
        "id": "DILu0zLn96DR"
      },
      "source": [
        "#Sentiment analysis"
      ]
    },
    {
      "cell_type": "code",
      "execution_count": 10,
      "metadata": {
        "colab": {
          "base_uri": "https://localhost:8080/"
        },
        "id": "paQS3zrLDgiK",
        "outputId": "1b519d1a-5767-4b1d-9f36-f201cecdf377"
      },
      "outputs": [
        {
          "name": "stdout",
          "output_type": "stream",
          "text": [
            "{\n",
            "  \"category\": \"positive\",\n",
            "  \"reasoning\": \"The comment suggests that the course should implement more checkpoints to review previous material. This indicates that the student is pleased with the course and believes that additional review would enhance their learning experience.\"\n",
            "}\n",
            "{\n",
            "  \"category\": \"slightly positive\",\n",
            "  \"reasoning\": \"The comment starts off by stating that the course was fantastic and informative, indicating a positive experience. However, the student mentions a minor issue with having to rewatch the videos several times to write down everything. This suggests a slight dissatisfaction. Overall, the comment leans towards being slightly positive.\"\n",
            "}\n",
            "{\n",
            "  \"category\": \"positive\",\n",
            "  \"reasoning\": \"The comment starts off by expressing enjoyment and learning a lot from the course, indicating a positive experience. The mention of wanting more time between new releases of information and a live question/answer session suggests areas for improvement, but overall the comment is predominantly pleased with the course experience.\"\n",
            "}\n"
          ]
        }
      ],
      "source": [
        "comments = [\n",
        "    \"Implement more checkpoints that review previous material throughout the course.\",\n",
        "    \"The course was fantastic and informative. However, I had to rewatch the videos several times to write down everything that is said. I learn best by looking at the words. The videos should come with either a transcript or written words or some sort that convey the same information.\",\n",
        "    \"I really enjoyed the course and learned a lot of applicable information for my job. I would have like a little more time between new releases of information. It would also be nice to have a live question/answer session.\"\n",
        "# Add more comments as needed\n",
        "]\n",
        "\n",
        "tags = \"\"\"\n",
        "Category: \"positive\"\n",
        "Description: The comment is predominantly pleased or happy with the course experience.\n",
        "Category: \"slightly positive\"\n",
        "Description: The comment is slightly pleased or happy.\n",
        "Category: \"neutral\"\n",
        "Description: The comment is neither positive nor negative overall.\n",
        "Category: \"slightly negative\"\n",
        "Description: The comment is slightly displeased or unhappy.\n",
        "Category: \"negative\"\n",
        "Description: The comment is predominantly displeased or unhappy.\n",
        "\"\"\"\n",
        "prompt = f\"\"\"\n",
        "You are a highly-skilled assistant that classifies student course feedback comments.\n",
        "You respond only with a JSON object.\n",
        "You will be provided with a comment from a student course feedback survey.\n",
        "Categorize the comment with one of the following categories:\n",
        "{tags}\n",
        "Think step-by-step to arrive at a correct classification. Include your reasoning\n",
        "behind every assigned category in the output.\n",
        "tags {tags}\n",
        "\"\"\"\n",
        "\n",
        "for i, comment in enumerate(comments, start=1):\n",
        "\n",
        "    model = \"gpt-3.5-turbo\"  # Sử dụng mô hình GPT-4\n",
        "    max_tokens = 2048  # Điều chỉnh theo nhu cầu\n",
        "    response = client.chat.completions.create(\n",
        "      model=model,\n",
        "      messages=[\n",
        "        {\"role\": \"system\", \"content\": prompt},\n",
        "        {\"role\": \"user\", \"content\":comment}\n",
        "      ],\n",
        "    max_tokens=max_tokens,\n",
        "    temperature = 0\n",
        ")\n",
        "    print(response.choices[0].message.content)\n"
      ]
    },
    {
      "cell_type": "markdown",
      "metadata": {
        "id": "9hebB3pk-G8u"
      },
      "source": [
        "#Inductive thematic analysis"
      ]
    },
    {
      "cell_type": "code",
      "execution_count": 11,
      "metadata": {
        "colab": {
          "base_uri": "https://localhost:8080/",
          "height": 53
        },
        "id": "ieIxhzqzDg4I",
        "outputId": "187f8562-bacb-4928-b52d-dc81bedff2f7"
      },
      "outputs": [
        {
          "data": {
            "application/vnd.google.colaboratory.intrinsic+json": {
              "type": "string"
            },
            "text/plain": [
              "'[{\"theme description\": \"Incredible teachers with passion\", \"theme title\": \"Passionate Teachers\"}, {\"theme description\": \"Great course structure and organization\", \"theme title\": \"Excellent Course Structure\"}, {\"theme description\": \"Engaging and enjoyable learning experience\", \"theme title\": \"Engaging Instructors\"}]'"
            ]
          },
          "execution_count": 11,
          "metadata": {},
          "output_type": "execute_result"
        }
      ],
      "source": [
        "# Define the prompt variables\n",
        "delimiter = \"####\"  # Change this to your specific delimiter\n",
        "question = \"how did they feel about the course?\"\n",
        "\n",
        "# Define the prompt\n",
        "prompt = f\"\"\"\n",
        "You are a highly-skilled assistant that derives the main themes from student course\n",
        "feedback comments. You respond only with a JSON array.\n",
        "You will be provided with a set of comments from a student course feedback\n",
        "survey. Each comment is surrounded by the delimiter {delimiter}. Each original\n",
        "comment was in response to the question: \"{question}\". Your task is to derive the\n",
        "main themes from the comments. A theme is a short phrase that summarizes a\n",
        "piece of feedback that is expressed by multiple students.\n",
        "Respond with a JSON array of theme objects. Each theme object should have a\n",
        "‘theme description’ field which describes the theme in two sentences or less, and a\n",
        "‘theme title’ field (which gives a short name for the theme in 5 words or less).\n",
        "If you cannot find any themes, for example if there are no comments in the original\n",
        "list, respond only with an empty JSON array: []\n",
        "\n",
        "\"\"\"\n",
        "\n",
        "\n",
        "# Replace this with an actual comment and list of excerpts from the user survey\n",
        "comments = [\n",
        "    \"The teachers they are incredible and their fascination about this topic make it more interesting.\",\n",
        "    \"The structure of this course is just great. However, I would love to have the chance to repeat all the modules as I am from a very different background.\"\n",
        "    \"I was really impressed with the course! The instructors are so knowledgeable, and their passion for the subject shines through in every lesson.\"\n",
        "    \"The course was fantastic! I appreciated the well-organized content, and the instructors' enthusiasm added an extra layer of excitement to the material.\"\n",
        "    \"I found the course to be quite enjoyable. The teachers were engaging, and their enthusiasm made the learning experience much more enjoyable.\"\n",
        "    \"The instructors made the course truly enjoyable. Their passion for the subject made the material more relatable and interesting.\"\n",
        "    \"I had a great experience with the course! The instructors were excellent, and their passion for the material made the content more engaging.\"\n",
        "    \"The course structure was excellent, and the teachers' enthusiasm was contagious. I thoroughly enjoyed every aspect of the learning process.\"\n",
        "    \"The teachers were amazing! Their passion for the course material was evident, and it made the learning experience more enjoyable and memorable.\"\n",
        "    \"I loved the course! The instructors' passion for the subject matter was contagious, making each session engaging and informative.\"\n",
        "    \"The course was fantastic, largely due to the incredible instructors. Their enthusiasm and knowledge enhanced the overall learning experience.\"\n",
        "    \"I had a positive experience with the course. The instructors' passion for the topic was evident, and it made the learning process much more enjoyable.\"\n",
        "     # Add more comments as needed\n",
        "]\n",
        "\n",
        "\n",
        "model = \"gpt-3.5-turbo\"\n",
        "max_tokens = 2048  # Điều chỉnh theo nhu cầu\n",
        "response = client.chat.completions.create(\n",
        "      model=model,\n",
        "      messages=[\n",
        "    {\"role\": \"system\", \"content\": prompt},\n",
        "    {\"role\": \"user\", \"content\": f\"{delimiter}{comments}{delimiter}\"}\n",
        "      ],\n",
        "    max_tokens=max_tokens,\n",
        "    temperature = 0\n",
        ")\n",
        "\n",
        "response.choices[0].message.content\n",
        "\n",
        "\n",
        "\n"
      ]
    }
  ],
  "metadata": {
    "colab": {
      "collapsed_sections": [
        "5enEbiXxxFwL",
        "T_Pg4i-b95WW",
        "oJK2G6Xt95ee",
        "DILu0zLn96DR",
        "9hebB3pk-G8u"
      ],
      "provenance": []
    },
    "kernelspec": {
      "display_name": "Python 3",
      "name": "python3"
    },
    "language_info": {
      "name": "python"
    }
  },
  "nbformat": 4,
  "nbformat_minor": 0
}
